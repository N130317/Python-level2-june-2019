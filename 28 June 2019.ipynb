{
 "cells": [
  {
   "cell_type": "markdown",
   "metadata": {},
   "source": [
    "### Date : 28 June 2019\n",
    "\n",
    "### Day Objectives\n",
    "- Map\n",
    "- Lambda\n",
    "- Filter\n",
    "- Use cases - File / Data Encryption"
   ]
  },
  {
   "cell_type": "raw",
   "metadata": {},
   "source": [
    "### Map\n",
    "\n",
    "Mapping - Entity with Function\n",
    "\n",
    "f(x) : x^2\n",
    "\n",
    "x : [1,5]\n",
    "\n",
    "f(x)\n",
    "\n",
    "f(1) -> 1\n",
    "f(2) -> 4\n",
    "f(3) -> 9\n",
    "..........\n",
    "\n",
    "y = f(x)\n",
    "\n",
    "x      y\n",
    "1      1\n",
    "2      4\n",
    "3      9\n",
    "4      16\n",
    "5      25\n",
    "\n",
    "map(function, Iterable)"
   ]
  },
  {
   "cell_type": "code",
   "execution_count": 20,
   "metadata": {},
   "outputs": [
    {
     "data": {
      "text/plain": [
       "16"
      ]
     },
     "execution_count": 20,
     "metadata": {},
     "output_type": "execute_result"
    }
   ],
   "source": [
    "def powerN(a,n):\n",
    "    #return a ** n\n",
    "    r = 1\n",
    "    for i in range(0,n):\n",
    "        r *= a\n",
    "    return r\n",
    "#powerN(2,5)\n",
    "\n",
    "def recursivePowerN(a,n):\n",
    "    if n == 0:\n",
    "        return 1\n",
    "    else:\n",
    "        return a * recursivePowerN(a,n-1)\n",
    "\n",
    "recursivePowerN(2,4)"
   ]
  },
  {
   "cell_type": "code",
   "execution_count": 56,
   "metadata": {},
   "outputs": [
    {
     "data": {
      "text/plain": [
       "[1, 8, 27, 64, 125, 216]"
      ]
     },
     "execution_count": 56,
     "metadata": {},
     "output_type": "execute_result"
    }
   ],
   "source": [
    "def cube(n):\n",
    "    return n ** 3\n",
    "\n",
    "li = ['1','2','3','4','5','6']\n",
    "#set(map(cube, li))\n",
    "li2 = list(map(int, li))\n",
    "\n",
    "#list(map(str,li2))\n",
    "#list(map(float,li))\n",
    "tuple(map(float, li2))\n",
    "\n",
    "numbers = [int(i) for i in li]\n",
    "[cube(i) for i in numbers]\n"
   ]
  },
  {
   "cell_type": "markdown",
   "metadata": {},
   "source": [
    "### Filter\n",
    "\n",
    "Used to check boolean values\n",
    "\n",
    "    f:x -> {T,F}\n",
    "y c x\n"
   ]
  },
  {
   "cell_type": "code",
   "execution_count": 36,
   "metadata": {},
   "outputs": [
    {
     "data": {
      "text/plain": [
       "['a', 'b', 'c']"
      ]
     },
     "execution_count": 36,
     "metadata": {},
     "output_type": "execute_result"
    }
   ],
   "source": [
    "li = [1,2,'a','b','c',3]\n",
    "\n",
    "def isDigit(c):\n",
    "    c = str(c)\n",
    "    if c.isdigit():\n",
    "        return 0\n",
    "    return 1\n",
    "\n",
    "isDigit('a')\n",
    "\n",
    "list(filter(isDigit, li))\n"
   ]
  },
  {
   "cell_type": "code",
   "execution_count": 52,
   "metadata": {},
   "outputs": [
    {
     "name": "stdout",
     "output_type": "stream",
     "text": [
      "[503, 509, 521, 523, 541, 547, 557, 563, 569, 571, 577, 587, 593, 599]\n",
      "[503, 509, 521, 523, 541, 547, 557, 563, 569, 571, 577, 587, 593, 599]\n"
     ]
    }
   ],
   "source": [
    "# Filter all Primes in a range\n",
    "\n",
    "def checkPrime(n):\n",
    "    if n < 2:\n",
    "        return False\n",
    "    for i in range(2,n//2+1):\n",
    "        if n % i == 0:\n",
    "            return False\n",
    "    return True\n",
    "lb,ub = 500, 600\n",
    "primeList = list(filter(checkPrime, range(lb,ub)))\n",
    "#primeList\n",
    "\n",
    "primeList2 = [i for i in range(lb,ub+1) if checkPrime(i)]\n",
    "\n",
    "# Map fails because it doesn't applicable for conditionl check\n",
    "print(primeList)\n",
    "print(primeList2)"
   ]
  },
  {
   "cell_type": "code",
   "execution_count": null,
   "metadata": {},
   "outputs": [],
   "source": []
  },
  {
   "cell_type": "markdown",
   "metadata": {},
   "source": [
    "### Lambda\n",
    "\n",
    "Anonymous Functions\n",
    "\n",
    "Can be embedded into List Comprehension, Maps , Filter"
   ]
  },
  {
   "cell_type": "code",
   "execution_count": 68,
   "metadata": {},
   "outputs": [
    {
     "data": {
      "text/plain": [
       "[1, 3, 5]"
      ]
     },
     "execution_count": 68,
     "metadata": {},
     "output_type": "execute_result"
    }
   ],
   "source": [
    "a = lambda x: x ** 3\n",
    "\n",
    "list(map(lambda x:x**3, [1,2,3,4,5,6])) \n",
    "\n",
    "list(filter(lambda x:(x % 2 != 0),[1,2,3,4,5,6]))"
   ]
  },
  {
   "cell_type": "code",
   "execution_count": 87,
   "metadata": {},
   "outputs": [
    {
     "data": {
      "text/plain": [
       "[10, 8, 4, 13, 12, 8, 8]"
      ]
     },
     "execution_count": 87,
     "metadata": {},
     "output_type": "execute_result"
    }
   ],
   "source": [
    "from random import randint\n",
    "\n",
    "internal1 = [randint(0,25) for i in range(10)]\n",
    "internal2 = [randint(0,25) for i in range(10)]\n",
    "internal3 = [randint(0,25) for i in range(10)]\n",
    "\n",
    "averageInternal = list(map(lambda x,y,z:(x+y+z)//3, internal1,internal2,internal3))\n",
    "averageInternal\n",
    "\n",
    "failedmarks = list(filter(lambda x: x < 15, averageInternal))\n",
    "failedmarks"
   ]
  },
  {
   "cell_type": "code",
   "execution_count": null,
   "metadata": {},
   "outputs": [],
   "source": []
  },
  {
   "cell_type": "markdown",
   "metadata": {},
   "source": [
    "### Applying Functional Programming to the Marks Analysis Application"
   ]
  },
  {
   "cell_type": "code",
   "execution_count": 1,
   "metadata": {},
   "outputs": [],
   "source": [
    "# Generate Marks data\n",
    "from random import randint\n",
    "\n",
    "def generateMarks(n, lb, ub):\n",
    "    filename = 'DataFiles/marks.txt'\n",
    "    with open(filename,'w') as f:\n",
    "        for i in range(n):\n",
    "            marks = randint(lb,ub)\n",
    "            f.write(str(marks)+'\\n')\n",
    "    return\n",
    "\n",
    "generateMarks(300,0,100)"
   ]
  },
  {
   "cell_type": "code",
   "execution_count": 14,
   "metadata": {},
   "outputs": [
    {
     "data": {
      "text/plain": [
       "52"
      ]
     },
     "execution_count": 14,
     "metadata": {},
     "output_type": "execute_result"
    }
   ],
   "source": [
    "# Marks Analysis\n",
    "    # Class Average \n",
    "    # % of Passed, Failed and Distinction\n",
    "    # Frequency of Highest & Lowest Mark.\n",
    "#import re\n",
    "\n",
    "def readMarksList(filepath):\n",
    "    with open(filepath, 'r') as f:\n",
    "        filedata = f.read().split()\n",
    "    return list(map(int,filedata))\n",
    "        \n",
    "    \n",
    "def classAverage(filepath):\n",
    "    markslist = readMarksList(filepath)\n",
    "    return sum(markslist)//len(markslist)\n",
    "\n",
    "filepath = 'DataFiles/marks.txt'\n",
    "classAverage(filepath)        "
   ]
  },
  {
   "cell_type": "code",
   "execution_count": 16,
   "metadata": {},
   "outputs": [
    {
     "data": {
      "text/plain": [
       "36.0"
      ]
     },
     "execution_count": 16,
     "metadata": {},
     "output_type": "execute_result"
    }
   ],
   "source": [
    "def percentageFailed(filepath):\n",
    "    markslist = readMarksList(filepath)\n",
    "    failedcount = len(list(filter(lambda mark: mark < 40, markslist)))\n",
    "    \n",
    "    return (failedcount/len(markslist))*100\n",
    "\n",
    "percentageFailed(filepath)"
   ]
  },
  {
   "cell_type": "code",
   "execution_count": 17,
   "metadata": {},
   "outputs": [
    {
     "data": {
      "text/plain": [
       "64.0"
      ]
     },
     "execution_count": 17,
     "metadata": {},
     "output_type": "execute_result"
    }
   ],
   "source": [
    "def percentagePassed(filepath):\n",
    "    return 100 - percentageFailed(filepath)\n",
    "\n",
    "percentagePassed(filepath)"
   ]
  },
  {
   "cell_type": "code",
   "execution_count": 20,
   "metadata": {},
   "outputs": [
    {
     "data": {
      "text/plain": [
       "31.666666666666664"
      ]
     },
     "execution_count": 20,
     "metadata": {},
     "output_type": "execute_result"
    }
   ],
   "source": [
    "def percentageDistinction(filepath):\n",
    "    markslist = readMarksList(filepath)\n",
    "    distinctioncount = len(list(filter(lambda mark: mark > 70, markslist)))\n",
    "    \n",
    "    return (distinctioncount/len(markslist))*100\n",
    "\n",
    "percentageDistinction(filepath)"
   ]
  },
  {
   "cell_type": "code",
   "execution_count": 24,
   "metadata": {},
   "outputs": [
    {
     "data": {
      "text/plain": [
       "[3, 100]"
      ]
     },
     "execution_count": 24,
     "metadata": {},
     "output_type": "execute_result"
    }
   ],
   "source": [
    "def highestMarkFrequency(filepath):\n",
    "    markslist = readMarksList(filepath)\n",
    "    return [markslist.count(max(markslist)), max(markslist)]\n",
    "\n",
    "highestMarkFrequency(filepath)"
   ]
  },
  {
   "cell_type": "code",
   "execution_count": 25,
   "metadata": {},
   "outputs": [
    {
     "data": {
      "text/plain": [
       "[1, 0]"
      ]
     },
     "execution_count": 25,
     "metadata": {},
     "output_type": "execute_result"
    }
   ],
   "source": [
    "def lowestMarkFrequency(filepath):\n",
    "    markslist = readMarksList(filepath)\n",
    "    return [markslist.count(min(markslist)), min(markslist)]\n",
    "\n",
    "lowestMarkFrequency(filepath)"
   ]
  },
  {
   "cell_type": "code",
   "execution_count": null,
   "metadata": {},
   "outputs": [],
   "source": []
  },
  {
   "cell_type": "markdown",
   "metadata": {},
   "source": [
    "### Data Encryption\n",
    "\n",
    "Key - Mapping of characters with replacement characters\n",
    "\n",
    "0 -> 4 \n",
    "1 -> 5\n",
    "2 -> 6\n",
    "3 -> 7\n",
    "4 -> 8\n",
    "5 -> 9\n",
    "6 -> 0\n",
    "7 -> 1\n",
    "8 -> 2\n",
    "9 -> 3\n"
   ]
  },
  {
   "cell_type": "code",
   "execution_count": 26,
   "metadata": {},
   "outputs": [],
   "source": [
    "# Function to generate key for encryption\n",
    "keypath = 'DataFiles/key.txt'\n",
    "\n",
    "def generateKey(keypath):\n",
    "    with open (keypath, 'w') as f:\n",
    "        for i in range(10):\n",
    "            if i < 6:\n",
    "                f.write(str(i)+ ' ' + str(i+4)+'\\n')\n",
    "            else:\n",
    "                f.write(str(i)+ ' ' + str(i-6)+'\\n') \n",
    "    return\n",
    "generateKey(keypath)\n"
   ]
  },
  {
   "cell_type": "code",
   "execution_count": 32,
   "metadata": {},
   "outputs": [
    {
     "data": {
      "text/plain": [
       "{'0': '4',\n",
       " '1': '5',\n",
       " '2': '6',\n",
       " '3': '7',\n",
       " '4': '8',\n",
       " '5': '9',\n",
       " '6': '0',\n",
       " '7': '1',\n",
       " '8': '2',\n",
       " '9': '3'}"
      ]
     },
     "execution_count": 32,
     "metadata": {},
     "output_type": "execute_result"
    }
   ],
   "source": [
    "# Function to encrypt a data file\n",
    " \n",
    "keyfile = 'DataFiles/key.txt'\n",
    "def dictionarykeyFile(keyfile):\n",
    "    key = {}\n",
    "    with open(keyfile, 'r') as f:\n",
    "        for line in f:\n",
    "            line = line.split()\n",
    "            key[line[0]] = line[1]\n",
    "    return key\n",
    "    \n",
    "dictionarykeyFile(keyfile)    \n",
    "#def encryptMarksData(datafile, keyfile):   "
   ]
  },
  {
   "cell_type": "code",
   "execution_count": null,
   "metadata": {},
   "outputs": [],
   "source": []
  }
 ],
 "metadata": {
  "kernelspec": {
   "display_name": "Python 3",
   "language": "python",
   "name": "python3"
  },
  "language_info": {
   "codemirror_mode": {
    "name": "ipython",
    "version": 3
   },
   "file_extension": ".py",
   "mimetype": "text/x-python",
   "name": "python",
   "nbconvert_exporter": "python",
   "pygments_lexer": "ipython3",
   "version": "3.7.3"
  }
 },
 "nbformat": 4,
 "nbformat_minor": 2
}
