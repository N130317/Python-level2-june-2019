{
 "cells": [
  {
   "cell_type": "markdown",
   "metadata": {},
   "source": [
    "# Problem Solving and Programming\n",
    "\n",
    "### Data:12-June-2019\n",
    "\n",
    "### Day Objectives\n",
    "\n",
    "- String Slicing\n",
    "- Functions in Python\n",
    "- Basic Problems related to conditional statements using functions\n",
    "- Iteration in Python\n",
    "- Problems on functions"
   ]
  },
  {
   "cell_type": "markdown",
   "metadata": {},
   "source": [
    "## String Slicing"
   ]
  },
  {
   "cell_type": "code",
   "execution_count": null,
   "metadata": {},
   "outputs": [],
   "source": [
    "s1= \"Python\"\n",
    "\n",
    "s1[0] # Accessinng the first character in a string\n",
    "s1[1] # Accessing the second character in a string\n",
    "s1[len(s1)-1] # Accessing the last character in a string\n",
    "\n",
    "s1[-1] # Another way of accessing the last character\n",
    "\n",
    "s1[-2] # Accessing the penultimate character of a string\n",
    "\n",
    "s1[0:2] # Accessing the first two characters in a string\n",
    "\n",
    "s1[-2:] # Accessing the last two characters in a string\n",
    "\n",
    "s1[4:] # Accessing all characters from 5th to end of the string\n",
    "\n",
    "s1[1:-1] # Accessing all characters except first and last character\n",
    "\n",
    "s1[len(s1)//2] # Accessing the middle character in an odd string\n",
    "\n",
    "s1[-1::-1] # Reverse of a string\n",
    "\n",
    "s1[-1:-3:-1] # Access last two characters in reverse order\n",
    "\n",
    "s1[len(s1)//2:len(s1)//2-2:-1] # Reverese the middle two characters in an even length string \n",
    "\n",
    "s1[::2] # Accessing alternate characters in a string\n",
    "\n",
    "s1[::-2] # Accessing alternate characters of a string in reverse order"
   ]
  },
  {
   "cell_type": "code",
   "execution_count": null,
   "metadata": {},
   "outputs": [],
   "source": []
  },
  {
   "cell_type": "markdown",
   "metadata": {},
   "source": [
    "### Functions"
   ]
  },
  {
   "cell_type": "code",
   "execution_count": null,
   "metadata": {},
   "outputs": [],
   "source": [
    "# Function to reverse a string\n",
    "def reverseString(s):\n",
    "    return s[::-1]\n",
    "    \n",
    "reverseString(\"Python\")"
   ]
  },
  {
   "cell_type": "code",
   "execution_count": null,
   "metadata": {},
   "outputs": [],
   "source": [
    "# Function to check if a string is a Palindrome\n",
    "def palindrome(s):\n",
    "    if s == s[::-1]:\n",
    "        return True\n",
    "    else:\n",
    "        return False\n",
    "\n",
    "palindrome(\"racecar\")"
   ]
  },
  {
   "cell_type": "code",
   "execution_count": null,
   "metadata": {},
   "outputs": [],
   "source": [
    "# Function to chekc if a given year is a leap year\n",
    "def isLeapYear(year):\n",
    "    if year % 400 == 0 or (year % 100 != 0 and year % 4 == 0):\n",
    "        return True\n",
    "    else:\n",
    "        return False\n",
    "\n",
    "isLeapYear(2018)"
   ]
  },
  {
   "cell_type": "code",
   "execution_count": null,
   "metadata": {},
   "outputs": [],
   "source": [
    "# Function to count the number of digits in a given number\n",
    "def noofdigits(s):\n",
    "    return len(str(s))\n",
    "\n",
    "noofdigits(123456)"
   ]
  },
  {
   "cell_type": "code",
   "execution_count": null,
   "metadata": {},
   "outputs": [],
   "source": [
    "# Function to identify the greatest of 4 numbers\n",
    "def greatest(a,b,c,d):\n",
    "    if a>b and a>c and a>d:\n",
    "        return (a)\n",
    "    elif b>c and b>c:\n",
    "        return (b)\n",
    "    elif c>d:\n",
    "        return (c)\n",
    "    else:\n",
    "        return (d)\n",
    "\n",
    "greatest(99,98,97,96)\n",
    "    "
   ]
  },
  {
   "cell_type": "code",
   "execution_count": null,
   "metadata": {},
   "outputs": [],
   "source": []
  },
  {
   "cell_type": "markdown",
   "metadata": {},
   "source": [
    "### Iteration\n",
    "\n",
    "- for\n",
    "- while"
   ]
  },
  {
   "cell_type": "code",
   "execution_count": null,
   "metadata": {},
   "outputs": [],
   "source": [
    "# Function to print n natural numbers\n",
    "def printNNaturalNumbers(n):\n",
    "    for counter in range(1,n+1):\n",
    "        print(counter, end=\" \")\n",
    "    return\n",
    "    \n",
    "printNNaturalNumbers(30)\n",
    "        \n",
    "    "
   ]
  },
  {
   "cell_type": "code",
   "execution_count": null,
   "metadata": {},
   "outputs": [],
   "source": [
    "# Function to print n natural numbers using a while loop\n",
    "def nNaturalNumbers(n):\n",
    "    counter = 1\n",
    "    while counter<=n:\n",
    "        print(counter, end=\" \")\n",
    "        counter = counter + 1\n",
    "    return\n",
    "\n",
    "nNaturalNumbers(10)\n",
    "    "
   ]
  },
  {
   "cell_type": "code",
   "execution_count": null,
   "metadata": {},
   "outputs": [],
   "source": [
    "# Function to print all numbers divisble by 6 and not a factor of 100 in a given range(lb, up) inclusive\n",
    "def divisible6(lb,up):\n",
    "    for i in range(lb,up+1):\n",
    "        if i%6==0 and i%100!=0:\n",
    "            print(i, end=\" \")\n",
    "    return\n",
    "\n",
    "divisible6(100,200)\n"
   ]
  },
  {
   "cell_type": "code",
   "execution_count": null,
   "metadata": {},
   "outputs": [],
   "source": [
    "# Function to find the average of cubes of all even numbers in a given range(lb, ub)\n",
    "def averageofcubes(lb,ub):\n",
    "    sum = 0\n",
    "    count = 0\n",
    "    for i in range(lb,ub+1):\n",
    "        if i%2==0:\n",
    "            sum += i ** 3\n",
    "            count +=1\n",
    "    return sum/count\n",
    "\n",
    "averageofcubes(1,2)"
   ]
  },
  {
   "cell_type": "code",
   "execution_count": 2,
   "metadata": {},
   "outputs": [
    {
     "name": "stdout",
     "output_type": "stream",
     "text": [
      "1 2 4\n"
     ]
    }
   ],
   "source": [
    "# Function to generate the list of factors for a given number\n",
    "def factorsList(n):\n",
    "    for i in range(1,n//2+1):\n",
    "        if n % i == 0:\n",
    "            print(i, end=\" \")\n",
    "    print(n)\n",
    "    return\n",
    "    \n",
    "factorsList(4)"
   ]
  },
  {
   "cell_type": "code",
   "execution_count": null,
   "metadata": {},
   "outputs": [],
   "source": [
    "# Function to calculate the factorial of a given number\n",
    "def factorial(num):\n",
    "    if num == 1:\n",
    "        return num\n",
    "    else:\n",
    "        return num*factorial(num-1)\n",
    "    \n",
    "factorial(7)\n",
    "   \n",
    "        \n",
    "    "
   ]
  },
  {
   "cell_type": "code",
   "execution_count": null,
   "metadata": {},
   "outputs": [],
   "source": [
    "# Function to check if a given number is Prime\n",
    "def isPrime(n):\n",
    "    Flag = True\n",
    "    for i in range(2,n//2+1):\n",
    "            if n%i==0:\n",
    "                Flag = False\n",
    "                return Flag\n",
    "    return Flag\n",
    "        \n",
    "isPrime(104)\n",
    "    "
   ]
  },
  {
   "cell_type": "code",
   "execution_count": null,
   "metadata": {},
   "outputs": [],
   "source": [
    "# Function to generate N Prime numbers   "
   ]
  },
  {
   "cell_type": "code",
   "execution_count": null,
   "metadata": {},
   "outputs": [],
   "source": [
    "# Function to calculate the average of frist N Prime numbers\n",
    "def avgNPrimes(n):\n",
    "    primeCount = 0\n",
    "    sum = 0\n",
    "    seqCount = 2\n",
    "    while(primeCount < n):\n",
    "        if isPrime(seqCount):\n",
    "            primeCount += 1\n",
    "            sum += seqCount\n",
    "        seqCount += 1\n",
    "    return sum/n\n",
    "\n",
    "avgNPrimes(10)\n",
    "        \n",
    "        \n",
    "        "
   ]
  },
  {
   "cell_type": "code",
   "execution_count": 3,
   "metadata": {},
   "outputs": [
    {
     "name": "stdout",
     "output_type": "stream",
     "text": [
      "1\n",
      "1 2\n",
      "1 3\n",
      "1 2 4\n",
      "1 5\n",
      "1 2 3 6\n",
      "1 7\n",
      "1 2 4 8\n",
      "1 3 9\n",
      "1 2 5 10\n"
     ]
    }
   ],
   "source": [
    "# Function to generate all Perfect numbers in given range\n",
    "def isPerfect(n):\n",
    "    if factorsList(n) == n:\n",
    "        return True\n",
    "    return False\n",
    "\n",
    "def generatePerfect(lb, ub):\n",
    "    for i in range(lb, ub+1):\n",
    "        if isPerfect(i):\n",
    "            print(i, end=\" \")\n",
    "    return\n",
    "\n",
    "generatePerfect(1,10)"
   ]
  }
 ],
 "metadata": {
  "kernelspec": {
   "display_name": "Python 3",
   "language": "python",
   "name": "python3"
  },
  "language_info": {
   "codemirror_mode": {
    "name": "ipython",
    "version": 3
   },
   "file_extension": ".py",
   "mimetype": "text/x-python",
   "name": "python",
   "nbconvert_exporter": "python",
   "pygments_lexer": "ipython3",
   "version": "3.7.3"
  }
 },
 "nbformat": 4,
 "nbformat_minor": 2
}
