{
 "cells": [
  {
   "cell_type": "code",
   "execution_count": 30,
   "metadata": {},
   "outputs": [
    {
     "name": "stdout",
     "output_type": "stream",
     "text": [
      "name2 already exists\n"
     ]
    }
   ],
   "source": [
    "# Function to add contact to contacts text file\n",
    "\n",
    "from Packages.validators import phoneNumberValidator as pnv\n",
    "from Packages.validators import emailValidator as ev\n",
    "\n",
    "def addContact(name, phone , email):\n",
    "    # store data as name,phone,email in the contacts file\"\n",
    "    filename = \"DataFiles/contacts.txt\"\n",
    "    if not checkContactExists(name):\n",
    "        if pnv(phone) and ev(email):\n",
    "            with open(filename, 'a') as f:\n",
    "                line = name +',' + str(phone) +',' + email + '\\n'\n",
    "                f.write(line)\n",
    "            print(name, 'added to Contacts')\n",
    "        else:\n",
    "            print(name, 'Invalid phone number or email')\n",
    "    else:\n",
    "        print(name, 'already exists')\n",
    "\n",
    "    return\n",
    "\n",
    "#addContact(\"name2\", \"9000000002\", \"name1002@gmail.com\")\n",
    "\n",
    "import re\n",
    "# Function to check if contact already exists\n",
    "def checkContactExists(name):\n",
    "    filename = 'DataFiles/contacts.txt'\n",
    "    with open(filename, 'r') as f:\n",
    "        filedata = f.read()\n",
    "        pattern = name+','\n",
    "    return re.search(pattern, filedata)\n",
    "\n",
    "#if checkContactExists(\"name1\"):\n",
    "#    print(True)\n",
    "#else:\n",
    "#   print(False)\n",
    "\n",
    "addContact(\"name2\", \"9000000002\", \"name1002@gmail.com\")"
   ]
  },
  {
   "cell_type": "code",
   "execution_count": null,
   "metadata": {},
   "outputs": [],
   "source": []
  },
  {
   "cell_type": "code",
   "execution_count": 16,
   "metadata": {},
   "outputs": [
    {
     "data": {
      "text/plain": [
       "'name1, 9000000001, name1001@gmail.com\\nname2, 9000000002, name1002@gmail.com'"
      ]
     },
     "execution_count": 16,
     "metadata": {},
     "output_type": "execute_result"
    }
   ],
   "source": [
    "filename = 'DataFiles/mycontacts.txt'\n",
    "def csvToList(filename):\n",
    "    li = []\n",
    "    with open(filename, 'r') as f:\n",
    "        for line in f:\n",
    "            li.append(line.split(','))\n",
    "    return li\n",
    "\n",
    "#csvToList(filename)\n",
    "\n",
    "def listToFile(li):\n",
    "    s = ''\n",
    "    for i in li:\n",
    "        s += ','.join(i)\n",
    "    return s\n",
    "\n",
    "li = csvToList(filename)\n",
    "listToFile(li)"
   ]
  },
  {
   "cell_type": "code",
   "execution_count": null,
   "metadata": {},
   "outputs": [],
   "source": []
  },
  {
   "cell_type": "code",
   "execution_count": 10,
   "metadata": {},
   "outputs": [],
   "source": [
    "fname = 'DataFiles/mycontacts.txt'\n",
    "f = open(fname, 'a')\n",
    "f.write('\\nname2, 9000000002, name1002@gmail.com')\n",
    "f.close()"
   ]
  },
  {
   "cell_type": "code",
   "execution_count": null,
   "metadata": {},
   "outputs": [],
   "source": []
  },
  {
   "cell_type": "code",
   "execution_count": null,
   "metadata": {},
   "outputs": [],
   "source": []
  },
  {
   "cell_type": "code",
   "execution_count": 11,
   "metadata": {
    "scrolled": true
   },
   "outputs": [
    {
     "name": "stdout",
     "output_type": "stream",
     "text": [
      "Not exists\n"
     ]
    }
   ],
   "source": [
    "def search(fname,name):\n",
    "    fname = 'DataFiles/mycontacts.txt'\n",
    "    with open(fname, 'r') as f:\n",
    "        if name in fname:\n",
    "            print('already exists')\n",
    "        else:\n",
    "            print('Not exists')\n",
    "    return\n",
    "\n",
    "search(fname,\"name1\")"
   ]
  },
  {
   "cell_type": "code",
   "execution_count": 19,
   "metadata": {},
   "outputs": [
    {
     "name": "stdout",
     "output_type": "stream",
     "text": [
      "name1, 9000000001, name1001@gmail.com\n",
      "name2, 9000000002, name1002@gmail.com"
     ]
    }
   ],
   "source": [
    "def printLines(fname):\n",
    "    with open(fname, 'r') as f:\n",
    "        for line in f:\n",
    "            print(line, end='')\n",
    "    return\n",
    "\n",
    "printLines(fname)"
   ]
  },
  {
   "cell_type": "code",
   "execution_count": null,
   "metadata": {},
   "outputs": [],
   "source": []
  },
  {
   "cell_type": "code",
   "execution_count": null,
   "metadata": {},
   "outputs": [],
   "source": [
    "# search for given name\n",
    "# if it is present remove the line in f1\n",
    "# else print contact not found\n",
    "# PART 2\n",
    "# calllistToCSV\n",
    "# write the ListTOCSV o/p to file"
   ]
  }
 ],
 "metadata": {
  "kernelspec": {
   "display_name": "Python 3",
   "language": "python",
   "name": "python3"
  },
  "language_info": {
   "codemirror_mode": {
    "name": "ipython",
    "version": 3
   },
   "file_extension": ".py",
   "mimetype": "text/x-python",
   "name": "python",
   "nbconvert_exporter": "python",
   "pygments_lexer": "ipython3",
   "version": "3.7.3"
  }
 },
 "nbformat": 4,
 "nbformat_minor": 2
}
