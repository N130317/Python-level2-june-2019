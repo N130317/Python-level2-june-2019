{
 "cells": [
  {
   "cell_type": "code",
   "execution_count": null,
   "metadata": {},
   "outputs": [],
   "source": [
    "# Function to Toggle String characters\n",
    "\n",
    "\n",
    "s = \"abc\"\n",
    "s.islower()\n",
    "s.lower()\n",
    "s.upper()\n",
    "s.split()\n",
    "list(s)\n",
    "\n",
    "s = list(s)\n",
    "\"\".join(s)\n"
   ]
  },
  {
   "cell_type": "code",
   "execution_count": null,
   "metadata": {},
   "outputs": [],
   "source": [
    "# Function to Toggle String character\n",
    "\n",
    "def toggleString(s):\n",
    "    # Convert the string into a list of character\n",
    "    s = list(s)\n",
    "    t = []\n",
    "    for c in s:\n",
    "        if c.islower():\n",
    "            t.append(c.upper())\n",
    "        else:\n",
    "            t.append(c.lower())\n",
    "    return \"\".join(t)\n",
    "\n",
    "toggleString(\"AbC\")\n",
    "        "
   ]
  },
  {
   "cell_type": "markdown",
   "metadata": {},
   "source": [
    "### Problem:Duration\n",
    "\n",
    "**Input** : start time, end time (HH MM) <br>\n",
    "    HH - {00, 01, 02, 03, .. 23} <br>\n",
    "    MM - {00, 01, 02, 03, .. 59} <br>\n",
    "    HH MM - {00 00, 23 59} <br>\n",
    "    \n",
    "**Output** : time differnce in HH MM <br>"
   ]
  },
  {
   "cell_type": "code",
   "execution_count": null,
   "metadata": {},
   "outputs": [],
   "source": [
    "\n",
    "\n",
    "\n",
    "# Calculate the time difference as total number of minutes\n",
    "# Convert the total minutes into HH MM\n",
    "\n",
    "s = \"2 42 8 23\"\n",
    "def minutesDifference(s):\n",
    "    s = s.split()\n",
    "    sh = int(s[0])\n",
    "    sm = int(s[1])\n",
    "    eh = int(s[2])\n",
    "    em = int(s[3])\n",
    "    startminutes = (sh * 60) + sm\n",
    "    endminutes = (eh * 60) + em\n",
    "    return endminutes - startminutes\n",
    "\n",
    "def OutputTimeFormat(minutes):\n",
    "    # Convert minutes to HH MM\n",
    "    hh = minutes // 60\n",
    "    mm = minutes % 60\n",
    "    print(hh, mm)\n",
    "    return\n",
    "\n",
    "minutes = minutesDifference(s)\n",
    "OutputTimeFormat(minutes)"
   ]
  },
  {
   "cell_type": "code",
   "execution_count": null,
   "metadata": {},
   "outputs": [],
   "source": []
  },
  {
   "cell_type": "markdown",
   "metadata": {},
   "source": [
    "### First line indicates no.of test cases"
   ]
  },
  {
   "cell_type": "code",
   "execution_count": null,
   "metadata": {},
   "outputs": [],
   "source": []
  },
  {
   "cell_type": "code",
   "execution_count": null,
   "metadata": {},
   "outputs": [],
   "source": [
    "n = int(input())\n",
    "for i in range(n):\n",
    "    s = input()\n",
    "    s = s.split()\n",
    "    #s = intput.split()\n",
    "    a = int(s[0])\n",
    "    b = int(s[1])\n",
    "    if a%b==0:\n",
    "        print(\"factor\")\n",
    "    else:\n",
    "        print(\"not factor\")\n",
    "    \n",
    "    \n",
    "    "
   ]
  },
  {
   "cell_type": "code",
   "execution_count": null,
   "metadata": {},
   "outputs": [],
   "source": [
    "s = input().split()\n",
    "for i in s:\n",
    "    print(i)\n",
    "print(\"--------------\")\n",
    "for i in range(len(s)):\n",
    "    print(i)"
   ]
  },
  {
   "cell_type": "code",
   "execution_count": null,
   "metadata": {},
   "outputs": [],
   "source": [
    "s = input().split()\n",
    "print(s)\n",
    "for i in range(len(s)):\n",
    "    s[i] = int(s[i])\n",
    "s"
   ]
  },
  {
   "cell_type": "code",
   "execution_count": null,
   "metadata": {},
   "outputs": [],
   "source": []
  },
  {
   "cell_type": "markdown",
   "metadata": {},
   "source": [
    "# Test - Problems"
   ]
  },
  {
   "cell_type": "code",
   "execution_count": 14,
   "metadata": {},
   "outputs": [
    {
     "name": "stdout",
     "output_type": "stream",
     "text": [
      "3\n",
      "6\n",
      "YES\n",
      "5\n",
      "NO\n",
      "28\n",
      "YES\n"
     ]
    }
   ],
   "source": [
    "# Sum of Product of the number is equal to the given number\n",
    "\n",
    "T = int(input())\n",
    "for i in range(1,T+1):\n",
    "    N = int(input())\n",
    "    sum = 0\n",
    "    for j in range(1,N):\n",
    "        if (N % j)==0:\n",
    "            sum = sum + j\n",
    "    if (sum == N):\n",
    "        print(\"YES\")\n",
    "    else:\n",
    "        print(\"NO\")"
   ]
  },
  {
   "cell_type": "code",
   "execution_count": 12,
   "metadata": {},
   "outputs": [
    {
     "name": "stdout",
     "output_type": "stream",
     "text": [
      "a12bd4\n",
      "3 3\n"
     ]
    }
   ],
   "source": [
    "# Count the no.of alphabets and numbers\n",
    "\n",
    "s = input()\n",
    "d = 0\n",
    "a = 0\n",
    "for i in s:\n",
    "     if i.isdigit():\n",
    "            d += 1\n",
    "     if i.isalpha():\n",
    "            a += 1\n",
    "print(d,a)"
   ]
  },
  {
   "cell_type": "markdown",
   "metadata": {},
   "source": [
    "### Highest Remainder"
   ]
  },
  {
   "cell_type": "code",
   "execution_count": 1,
   "metadata": {},
   "outputs": [
    {
     "name": "stdout",
     "output_type": "stream",
     "text": [
      "16\n"
     ]
    }
   ],
   "source": [
    "# Write a program to find a natural number that is smaller \n",
    "\n",
    "def highestRemainder(n):\n",
    "    hr = 0\n",
    "    v = n\n",
    "    for i in range(n-1, n // 2, -1):\n",
    "        r = n % i\n",
    "        if r > hr:\n",
    "            hr == r\n",
    "            v = i\n",
    "    print(v)\n",
    "    return\n",
    "\n",
    "highestRemainder(30)"
   ]
  },
  {
   "cell_type": "markdown",
   "metadata": {},
   "source": [
    "### Special Number"
   ]
  },
  {
   "cell_type": "code",
   "execution_count": 4,
   "metadata": {},
   "outputs": [
    {
     "name": "stdout",
     "output_type": "stream",
     "text": [
      "2\n",
      "3\n",
      "7\n",
      "NO\n",
      "15\n",
      "YES\n",
      "9\n",
      "NO\n"
     ]
    }
   ],
   "source": [
    "# Write a program to determine whether a number N is a special number.\n",
    "\n",
    "# Function to determine if a number is special number or not\n",
    "def isSpecialNumber(n, p):\n",
    "    if numberOfPrimeFactors(n) >= p:\n",
    "        return True\n",
    "    return False\n",
    "\n",
    "\n",
    "# Function to check if number is Prime\n",
    "\n",
    "def isPrime(n):\n",
    "    flag = 1\n",
    "    if n == 2:\n",
    "        return True\n",
    "    for i in range(2, n//2 + 1):\n",
    "        if n % i == 0:\n",
    "            flag = 0\n",
    "            return False\n",
    "    if flag == 1:\n",
    "        return True\n",
    "    \n",
    "# Function to determine no.of Prime Factors for a given number\n",
    "\n",
    "def numberOfPrimeFactors(n):\n",
    "    if isPrime(n):\n",
    "        return 1\n",
    "    count = 0\n",
    "    for i in range(2,n//2 + 1):\n",
    "        if isPrime(i) and n % i==0:\n",
    "            count += 1\n",
    "    return count\n",
    "\n",
    "def solution2():\n",
    "    p = int(input())\n",
    "    t = int(input())\n",
    "    for i in range(0,t):\n",
    "        n = int(input())\n",
    "        if isSpecialNumber(n, p):\n",
    "            print(\"YES\")\n",
    "        else:\n",
    "            print(\"NO\")\n",
    "            \n",
    "solution2()"
   ]
  },
  {
   "cell_type": "code",
   "execution_count": null,
   "metadata": {},
   "outputs": [],
   "source": []
  }
 ],
 "metadata": {
  "kernelspec": {
   "display_name": "Python 3",
   "language": "python",
   "name": "python3"
  },
  "language_info": {
   "codemirror_mode": {
    "name": "ipython",
    "version": 3
   },
   "file_extension": ".py",
   "mimetype": "text/x-python",
   "name": "python",
   "nbconvert_exporter": "python",
   "pygments_lexer": "ipython3",
   "version": "3.7.3"
  }
 },
 "nbformat": 4,
 "nbformat_minor": 2
}
