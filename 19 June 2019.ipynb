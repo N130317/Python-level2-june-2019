{
 "cells": [
  {
   "cell_type": "markdown",
   "metadata": {},
   "source": [
    "### ANAGRAMS\n",
    "    "
   ]
  },
  {
   "cell_type": "code",
   "execution_count": null,
   "metadata": {},
   "outputs": [],
   "source": [
    "a = input()\n",
    "b = input()\n",
    "a1=[0]*26\n",
    "b1=[0]*26\n",
    "for ele in a:\n",
    "    a1[ord(ele)-97]+= 1;\n",
    "for ele in b:\n",
    "    b1[ord(ele)-97]+= 1;\n",
    "res=0;\n",
    "for i in range(26):\n",
    "    res=res+(abs(a1[i]-b1[i]));\n",
    "print(res)"
   ]
  },
  {
   "cell_type": "markdown",
   "metadata": {},
   "source": [
    "### Goki and his breakup"
   ]
  },
  {
   "cell_type": "code",
   "execution_count": null,
   "metadata": {},
   "outputs": [],
   "source": [
    "N = int(input()) \n",
    "X = int(input())\n",
    "for i in range(1,N+1):\n",
    "    Y = int(input())\n",
    "    if (Y >= X):\n",
    "        print(\"YES\")\n",
    "    else:\n",
    "        print(\"NO\")\n"
   ]
  },
  {
   "cell_type": "markdown",
   "metadata": {},
   "source": [
    "### Life, the Universe and Everything"
   ]
  },
  {
   "cell_type": "code",
   "execution_count": null,
   "metadata": {},
   "outputs": [],
   "source": [
    "flag = 1\n",
    "while(flag!= 0):\n",
    "    a = int(input())\n",
    "    if (a==42):\n",
    "        flag = 0\n",
    "    else:\n",
    "        flag = 1\n",
    "        print(flag)"
   ]
  },
  {
   "cell_type": "markdown",
   "metadata": {},
   "source": [
    "### Duration"
   ]
  },
  {
   "cell_type": "code",
   "execution_count": null,
   "metadata": {},
   "outputs": [],
   "source": [
    "n = int(input())\n",
    "for i in range(1,n+1):\n",
    "    sh,sm,eh,em = list(map(int,input().split()))\n",
    "    m1 = (sh*60) + sm\n",
    "    m2 = (eh*60) + em\n",
    "    m = m2 - m1\n",
    "    hr = m // 60\n",
    "    mns = m % 60\n",
    "    print(hr, mns)\n",
    "   \n"
   ]
  },
  {
   "cell_type": "markdown",
   "metadata": {},
   "source": [
    "### Aman & Mr.Sharma"
   ]
  },
  {
   "cell_type": "code",
   "execution_count": null,
   "metadata": {},
   "outputs": [],
   "source": [
    "d = int(input())\n",
    "sum=0\n",
    "for i in range(1,d+1):\n",
    "    r,x = list(map(int,input().split()))\n",
    "    m = 100 * x\n",
    "    c = (2*(22/7)*r)\n",
    "    if(m >= c):\n",
    "        sum+=1\n",
    "    \n",
    "print(sum) \n"
   ]
  },
  {
   "cell_type": "markdown",
   "metadata": {},
   "source": [
    "### Cost of Ballons"
   ]
  },
  {
   "cell_type": "code",
   "execution_count": null,
   "metadata": {},
   "outputs": [],
   "source": [
    "T = int(input())\n",
    "for a in range(1,T+1):\n",
    "    g,p = list(map(int,input().split()))\n",
    "    n = int(input())\n",
    "    count1 = 0\n",
    "    count2 = 0\n",
    "    for b in range(1,n+1):\n",
    "        sum = 0\n",
    "        i,j = list(map(int,input().split()))\n",
    "        if (i == 1):\n",
    "            count1 += 1\n",
    "        if(j == 1):\n",
    "            count2 += 1\n",
    "            \n",
    "    sum = sum +(g*count1)+(p*count2)\n",
    "    print(sum)"
   ]
  },
  {
   "cell_type": "code",
   "execution_count": null,
   "metadata": {},
   "outputs": [],
   "source": []
  },
  {
   "cell_type": "code",
   "execution_count": 1,
   "metadata": {},
   "outputs": [
    {
     "name": "stdout",
     "output_type": "stream",
     "text": [
      "5\n",
      "1 2 3 4 5\n",
      "120\n"
     ]
    }
   ],
   "source": [
    "N = int(input())\n",
    "a = list(map(int,input().split()))\n",
    "answer = 1\n",
    "for i in a:\n",
    "    answer=((answer*i)%(10**9+7))\n",
    "\n",
    "print(answer)             "
   ]
  },
  {
   "cell_type": "code",
   "execution_count": null,
   "metadata": {},
   "outputs": [],
   "source": []
  },
  {
   "cell_type": "code",
   "execution_count": 11,
   "metadata": {},
   "outputs": [
    {
     "name": "stdout",
     "output_type": "stream",
     "text": [
      "1111111111\n",
      "Legal ISBN\n"
     ]
    }
   ],
   "source": [
    "N = input()\n",
    "sum = 0\n",
    "while(len(N)!= 10):\n",
    "    print(\"Illegal ISBN\")\n",
    "    break\n",
    "    \n",
    "if(len(N)==10):\n",
    "    for i in range(1,11):\n",
    "        sum += i*int(N[0])\n",
    "            \n",
    "    if(sum % 11 == 0):\n",
    "        print(\"Legal ISBN\")\n",
    "    else:\n",
    "        print(\"Illegal ISBN\")"
   ]
  },
  {
   "cell_type": "code",
   "execution_count": null,
   "metadata": {},
   "outputs": [],
   "source": []
  }
 ],
 "metadata": {
  "kernelspec": {
   "display_name": "Python 3",
   "language": "python",
   "name": "python3"
  },
  "language_info": {
   "codemirror_mode": {
    "name": "ipython",
    "version": 3
   },
   "file_extension": ".py",
   "mimetype": "text/x-python",
   "name": "python",
   "nbconvert_exporter": "python",
   "pygments_lexer": "ipython3",
   "version": "3.7.3"
  }
 },
 "nbformat": 4,
 "nbformat_minor": 2
}
