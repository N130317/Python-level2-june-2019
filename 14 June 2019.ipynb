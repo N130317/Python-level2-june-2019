{
 "cells": [
  {
   "cell_type": "markdown",
   "metadata": {},
   "source": [
    "### Python Datastructure\n",
    "\n",
    "### Lists"
   ]
  },
  {
   "cell_type": "code",
   "execution_count": null,
   "metadata": {},
   "outputs": [],
   "source": []
  },
  {
   "cell_type": "code",
   "execution_count": 29,
   "metadata": {},
   "outputs": [
    {
     "data": {
      "text/plain": [
       "9"
      ]
     },
     "execution_count": 29,
     "metadata": {},
     "output_type": "execute_result"
    }
   ],
   "source": [
    "li=[123,978,654]\n",
    "li\n",
    "li[1]\n",
    "li[-2:] # Accessing second element to last element\n",
    "li[::-1] # Accessing in the reverse order\n",
    "li [::2] # Accessing even index elements\n",
    "li[1::2] # Accessing odd elements in the list\n",
    "\n",
    "### Lists can be accessed and manipulated in two types\n",
    "                #1. Directed referencing\n",
    "                #2. Indirected referencing\n",
    "    \n",
    "# Indirect referencing\n",
    "\n",
    "li.append(345) # append\n",
    "li\n",
    "\n",
    "li.insert(1,234) # insert\n",
    "li\n",
    "\n",
    "li.sort() # sort\n",
    "li\n",
    "\n",
    "li.pop()\n",
    "li\n",
    "    \n",
    "# Remove element at an index\n",
    "#li.pop(index no)\n",
    "\n",
    "li2 = [111,222,333] #merge lists using extend\n",
    "li.extend(li2)\n",
    "li\n",
    "\n",
    "sum(li) # Sum of all elements\n",
    "\n",
    "max(li) # Maximum of list\n",
    "\n",
    "len(li) # Length of the list\n",
    "\n",
    "sum(li)/len(li) # Average of elements in the list\n",
    "\n",
    "sum(li[1::2])/len(li[1::2]) # Average of all alternate elements at odd position\n",
    "\n",
    "sum(li[::2])/len(li[::2]) # Average of all alternate elements at even position\n",
    "\n",
    "li = [1,2,3,4,4,4]\n",
    "li.pop(4)\n",
    "\n",
    "max(li)\n",
    "li.pop(max(li))\n",
    "\n",
    "li[-1:]\n",
    "\n",
    "l = li\n",
    "l\n",
    "\n",
    "li = set(li)\n",
    "l = list(l)\n",
    "l.pop()\n",
    "max(l)\n",
    "\n",
    "l2 = [1,2,3,4,5,6,7,8,9,10,10,10]\n",
    "l2.index(1)\n",
    "l2.count(10)"
   ]
  },
  {
   "cell_type": "code",
   "execution_count": 1,
   "metadata": {},
   "outputs": [
    {
     "data": {
      "text/plain": [
       "123"
      ]
     },
     "execution_count": 1,
     "metadata": {},
     "output_type": "execute_result"
    }
   ],
   "source": [
    "# Function to identify the second largest element in a unique list\n",
    "\n",
    "li = [123, 987 , 456, 321, 654, 789]\n",
    "def SecondLargest(li):\n",
    "    li.sort()\n",
    "    return li[-2]\n",
    "\n",
    "SecondLargest(li)\n",
    "\n",
    "def genericLargest(li, n):\n",
    "    li.sort()\n",
    "    return li[-n]\n",
    "\n",
    "genericLargest(li, 6)"
   ]
  },
  {
   "cell_type": "code",
   "execution_count": 13,
   "metadata": {},
   "outputs": [
    {
     "data": {
      "text/plain": [
       "4"
      ]
     },
     "execution_count": 13,
     "metadata": {},
     "output_type": "execute_result"
    }
   ],
   "source": [
    "# Function to \n",
    "\n",
    "def linearSearch1(li, key):\n",
    "    for index in range(0,len(li)):\n",
    "        if li[index] == key:\n",
    "            return index\n",
    "    return -1\n",
    "        \n",
    "def linearSearch2(li, key):\n",
    "    for element in li:\n",
    "        if element == key:\n",
    "            return li.index(element)\n",
    "    return -1\n",
    "\n",
    "def linearSearch3(li, key):\n",
    "    if key in li:\n",
    "        return li.index(key)\n",
    "    return -1\n",
    "\n",
    "linearSearch1(li, 123)\n",
    "linearSearch2(li, 321)\n",
    "linearSearch3(li, 789)"
   ]
  },
  {
   "cell_type": "code",
   "execution_count": 30,
   "metadata": {},
   "outputs": [
    {
     "data": {
      "text/plain": [
       "1"
      ]
     },
     "execution_count": 30,
     "metadata": {},
     "output_type": "execute_result"
    }
   ],
   "source": [
    "# Function to count the occurances of a character in a string\n",
    "# \"Python Programming\", m-> 2\n",
    "\n",
    "def countCharOccurances(s, c):\n",
    "    count = 0\n",
    "    for ch in s:\n",
    "        if ch == c:\n",
    "            count += 1\n",
    "    return count\n",
    "\n",
    "countCharOccurances(\"Python Programming\", \"m\")\n",
    "\n",
    "def countCharOccurances2(s,c):\n",
    "    return s.count(c)\n",
    "\n",
    "countCharOccurances(\"Python Programming\", \"t\")\n",
    "\n",
    "# Function to find the number of occurances of a substring\n",
    "# \"abcabcddcbaaaa\", \"aa\" -> 3\n",
    "    "
   ]
  }
 ],
 "metadata": {
  "kernelspec": {
   "display_name": "Python 3",
   "language": "python",
   "name": "python3"
  },
  "language_info": {
   "codemirror_mode": {
    "name": "ipython",
    "version": 3
   },
   "file_extension": ".py",
   "mimetype": "text/x-python",
   "name": "python",
   "nbconvert_exporter": "python",
   "pygments_lexer": "ipython3",
   "version": "3.7.3"
  }
 },
 "nbformat": 4,
 "nbformat_minor": 2
}
