{
 "cells": [
  {
   "cell_type": "markdown",
   "metadata": {},
   "source": [
    "### Date : 22 June 2019\n",
    "\n",
    "### Day Objectives :\n",
    "- File Handling\n",
    "    - Basic File Data Processing\n",
    "        - Accessing and Modifying File\n",
    "    - Character Count\n",
    "    - Line Count\n",
    "    - File Size\n",
    "    - Word Count\n",
    "    - Unique Word Count"
   ]
  },
  {
   "cell_type": "code",
   "execution_count": 44,
   "metadata": {},
   "outputs": [
    {
     "name": "stdout",
     "output_type": "stream",
     "text": [
      "name1\n",
      "name2\n",
      "name3\n",
      "name4\n",
      "name5\n"
     ]
    }
   ],
   "source": [
    "# Read a File - File should exist\n",
    "# Write in a File - Existing(append) or New File(write)\n",
    "\n",
    "def readFile(filePath):\n",
    "    with open(filePath, 'r') as f:\n",
    "        filedata = f.read()\n",
    "    return filedata\n",
    "\n",
    "filePath = 'DataFiles/new.txt'\n",
    "print(readFile(filePath))"
   ]
  },
  {
   "cell_type": "code",
   "execution_count": 45,
   "metadata": {},
   "outputs": [
    {
     "name": "stdout",
     "output_type": "stream",
     "text": [
      "No.of Characters :  20 \n",
      "\n",
      "No.of digits : 5\n"
     ]
    }
   ],
   "source": [
    "# Character Count\n",
    "\n",
    "def charCount(filePath):\n",
    "    with open(filePath, 'r') as f:\n",
    "        filedata = f.read()\n",
    "        count = 0\n",
    "        n = 0\n",
    "        for i in filedata:\n",
    "            if i.isalpha():\n",
    "                count += 1\n",
    "                \n",
    "            if i.isdigit():\n",
    "                n += 1\n",
    "    print (\"No.of Characters : \",count, \"\\n\")\n",
    "    print(\"No.of digits :\",n)\n",
    "    return\n",
    "\n",
    "filePath = 'DataFiles/new.txt'\n",
    "charCount(filePath)"
   ]
  },
  {
   "cell_type": "code",
   "execution_count": 47,
   "metadata": {},
   "outputs": [
    {
     "name": "stdout",
     "output_type": "stream",
     "text": [
      "No.of lines: 5\n"
     ]
    }
   ],
   "source": [
    "# Line Count\n",
    "\n",
    "def lineCount(filePath):\n",
    "    with open(filePath, 'r') as f:\n",
    "        filedata = f.read()\n",
    "        lines = 1\n",
    "        for line in filedata:\n",
    "            if line  == '\\n':\n",
    "                lines += 1\n",
    "            \n",
    "    print(\"No.of lines:\", lines)\n",
    "    return\n",
    "filePath = 'DataFiles/new.txt'\n",
    "lineCount(filePath)"
   ]
  },
  {
   "cell_type": "code",
   "execution_count": 48,
   "metadata": {},
   "outputs": [
    {
     "data": {
      "text/plain": [
       "29"
      ]
     },
     "execution_count": 48,
     "metadata": {},
     "output_type": "execute_result"
    }
   ],
   "source": [
    "# File size\n",
    "import os\n",
    "\n",
    "filesize = os.path.getsize('DataFiles/new.txt')\n",
    "filesize"
   ]
  },
  {
   "cell_type": "code",
   "execution_count": 7,
   "metadata": {},
   "outputs": [
    {
     "name": "stdout",
     "output_type": "stream",
     "text": [
      "LRUD\n",
      "0 0\n"
     ]
    }
   ],
   "source": [
    "### E-maze in\n",
    "\n",
    "s = input()\n",
    "i=[0,0]\n",
    "def mage(s):\n",
    "    for ele in s:\n",
    "        if ele == 'L':\n",
    "            i[0] = i[0]-1\n",
    "        elif ele == 'R':\n",
    "            i[0] = i[0]+1\n",
    "        elif ele == 'U':\n",
    "            i[1] = i[1]+1\n",
    "        elif ele == 'D':\n",
    "            i[1] = i[1]-1\n",
    "            \n",
    "    print(i[0],i[1])\n",
    "    return\n",
    "\n",
    "mage(s)            "
   ]
  },
  {
   "cell_type": "code",
   "execution_count": null,
   "metadata": {},
   "outputs": [],
   "source": []
  }
 ],
 "metadata": {
  "kernelspec": {
   "display_name": "Python 3",
   "language": "python",
   "name": "python3"
  },
  "language_info": {
   "codemirror_mode": {
    "name": "ipython",
    "version": 3
   },
   "file_extension": ".py",
   "mimetype": "text/x-python",
   "name": "python",
   "nbconvert_exporter": "python",
   "pygments_lexer": "ipython3",
   "version": "3.7.3"
  }
 },
 "nbformat": 4,
 "nbformat_minor": 2
}
