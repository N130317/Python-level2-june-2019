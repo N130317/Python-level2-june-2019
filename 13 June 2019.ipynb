{
 "cells": [
  {
   "cell_type": "code",
   "execution_count": 2,
   "metadata": {},
   "outputs": [
    {
     "name": "stdout",
     "output_type": "stream",
     "text": [
      "30.6\n"
     ]
    }
   ],
   "source": [
    "# Function to calcualte average of factorials in a given range\n",
    "\n",
    "def avgfact(lb,up):\n",
    "    tot = 0\n",
    "    count = 0\n",
    "    for i in range(lb,up+1):\n",
    "        sum = 1\n",
    "        for j in range(1,i+1):\n",
    "            sum = sum * j\n",
    "        count += 1\n",
    "        tot = tot + sum\n",
    "    print(tot/count)\n",
    "        \n",
    "avgfact(1,5)\n"
   ]
  },
  {
   "cell_type": "code",
   "execution_count": 3,
   "metadata": {},
   "outputs": [
    {
     "name": "stdout",
     "output_type": "stream",
     "text": [
      "1 3 5 7 9 153 371 407 "
     ]
    }
   ],
   "source": [
    "# Function to generate N odd armstrong numbers\n",
    "\n",
    "def armstrong(n):\n",
    "    i=1\n",
    "    count=0\n",
    "    while count<n:\n",
    "        j=i\n",
    "        sum=0\n",
    "        while j!=0:\n",
    "            rem=j%10\n",
    "            sum=sum+rem**len(str(i))\n",
    "            j=j//10\n",
    "        if sum==i and i%2==1:\n",
    "            print(i,end=\" \")\n",
    "            count=count+1\n",
    "        i=i+1\n",
    "\n",
    "armstrong(8)"
   ]
  },
  {
   "cell_type": "code",
   "execution_count": 4,
   "metadata": {},
   "outputs": [
    {
     "name": "stdout",
     "output_type": "stream",
     "text": [
      "1 3 5 7 9 11 13 15 17 19 21 23 25 27 29 31 33 35 37 39 41 43 45 47 49 "
     ]
    }
   ],
   "source": [
    "# Function to print the alternate values in a range\n",
    "def alternate(a,b):\n",
    "    for i in range(a,b+1,2):\n",
    "        print(i,end=\" \")\n",
    "    return\n",
    "\n",
    "alternate(1,50)"
   ]
  },
  {
   "cell_type": "code",
   "execution_count": 5,
   "metadata": {},
   "outputs": [
    {
     "name": "stdout",
     "output_type": "stream",
     "text": [
      "10 9 8 7 6 5 4 3 2 1 "
     ]
    }
   ],
   "source": [
    "# Function to print reverse of a given range in a same line\n",
    "def reverse(n):\n",
    "    for i in range(n,0,-1):\n",
    "        print(i,end=\" \")\n",
    "    return\n",
    "\n",
    "reverse(10)"
   ]
  },
  {
   "cell_type": "code",
   "execution_count": 6,
   "metadata": {},
   "outputs": [
    {
     "name": "stdout",
     "output_type": "stream",
     "text": [
      "5 x 1 = 5\n",
      "5 x 2 = 10\n",
      "5 x 3 = 15\n",
      "5 x 4 = 20\n",
      "5 x 5 = 25\n",
      "5 x 6 = 30\n",
      "5 x 7 = 35\n",
      "5 x 8 = 40\n",
      "5 x 9 = 45\n",
      "5 x 10 = 50\n"
     ]
    }
   ],
   "source": [
    "# Function to generate multiplication table for a number in a given range\n",
    "def multiplicationtable(n,lb,up):\n",
    "    for i in range(lb,up+1):\n",
    "        print(n,\"x\",i,\"=\",n*i)\n",
    "    return\n",
    "\n",
    "multiplicationtable(5,1,10)\n",
    "        "
   ]
  },
  {
   "cell_type": "code",
   "execution_count": 7,
   "metadata": {},
   "outputs": [
    {
     "data": {
      "text/plain": [
       "731"
      ]
     },
     "execution_count": 7,
     "metadata": {},
     "output_type": "execute_result"
    }
   ],
   "source": [
    "# Calculate no.of days in a given time period using Leapyearlogic\n",
    "def noofdays(start,end):\n",
    "    days = 0\n",
    "    for i in range(start,end+1):\n",
    "        if i%400==0 or (i%100!=0 and i%4==0):\n",
    "            days = days +366\n",
    "        else:\n",
    "            days = days + 365\n",
    "    return days\n",
    "\n",
    "noofdays(2019,2020)"
   ]
  },
  {
   "cell_type": "code",
   "execution_count": null,
   "metadata": {},
   "outputs": [],
   "source": [
    "# function to generate a series\n",
    "# if a given number n is even then make it 3n+1\n",
    "#if 3n+1 is odd then make it 2n\n",
    "\n",
    "def series(n):\n",
    "    count=0\n",
    "    while(n>0):\n",
    "        if n%2==0:\n",
    "            n=3*n+1\n",
    "        else:\n",
    "            n=2*n\n",
    "        count=count+1\n",
    "    return count\n",
    "\n",
    "series(3)"
   ]
  },
  {
   "cell_type": "code",
   "execution_count": null,
   "metadata": {},
   "outputs": [],
   "source": []
  }
 ],
 "metadata": {
  "kernelspec": {
   "display_name": "Python 3",
   "language": "python",
   "name": "python3"
  },
  "language_info": {
   "codemirror_mode": {
    "name": "ipython",
    "version": 3
   },
   "file_extension": ".py",
   "mimetype": "text/x-python",
   "name": "python",
   "nbconvert_exporter": "python",
   "pygments_lexer": "ipython3",
   "version": "3.7.3"
  }
 },
 "nbformat": 4,
 "nbformat_minor": 2
}
